{
 "cells": [
  {
   "cell_type": "code",
   "execution_count": 4,
   "id": "76829c3a-f765-4a4d-ac8e-2cda87217d7d",
   "metadata": {},
   "outputs": [
    {
     "name": "stdout",
     "output_type": "stream",
     "text": [
      "JSON conversion completed successfully!\n"
     ]
    }
   ],
   "source": [
    "import csv\n",
    "import json\n",
    "\n",
    "# Path to your CSV file\n",
    "csv_file_path = 'Copie de Synthèse.csv'\n",
    "\n",
    "# Initialize an empty list to hold the data\n",
    "data = []\n",
    "\n",
    "# Read the CSV file\n",
    "with open(csv_file_path, mode='r', encoding='utf-8') as csvfile:\n",
    "    csvreader = csv.DictReader(csvfile)\n",
    "    for row in csvreader:\n",
    "        # Construct the data structure for each row\n",
    "        item = {\n",
    "            \"right\": row['Droit'],\n",
    "            \"lawRef\": row['Texte juridique'],  # Assuming rights also have a single law reference\n",
    "            \"obligations\": [\n",
    "                {\"name\": row['Devoir 1'], \"lawRef\": row['Texte juridique 1']},\n",
    "                {\"name\": row['Devoir 2'], \"lawRef\": row['Texte juridique 2']},\n",
    "                {\"name\": row['Devoir 3'], \"lawRef\": row['Texte juridique 3']}\n",
    "            ],\n",
    "        }\n",
    "        # Append the constructed item to the data list\n",
    "        data.append(item)\n",
    "\n",
    "# Convert the list to JSON\n",
    "json_data = json.dumps(data, indent=4, ensure_ascii=False)\n",
    "\n",
    "# Optionally, write the JSON data to a file\n",
    "output_json_path = 'data/output.json'\n",
    "with open(output_json_path, 'w', encoding='utf-8') as jsonfile:\n",
    "    jsonfile.write(json_data)\n",
    "\n",
    "print(\"JSON conversion completed successfully!\")"
   ]
  },
  {
   "cell_type": "code",
   "execution_count": null,
   "id": "16ce7eae-fdd5-4ca6-8f83-c45578eec7b2",
   "metadata": {},
   "outputs": [],
   "source": []
  }
 ],
 "metadata": {
  "kernelspec": {
   "display_name": "Python 3 (ipykernel)",
   "language": "python",
   "name": "python3"
  },
  "language_info": {
   "codemirror_mode": {
    "name": "ipython",
    "version": 3
   },
   "file_extension": ".py",
   "mimetype": "text/x-python",
   "name": "python",
   "nbconvert_exporter": "python",
   "pygments_lexer": "ipython3",
   "version": "3.8.8"
  }
 },
 "nbformat": 4,
 "nbformat_minor": 5
}
